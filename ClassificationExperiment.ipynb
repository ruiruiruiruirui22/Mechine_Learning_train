{
 "cells": [
  {
   "cell_type": "code",
   "execution_count": 2,
   "metadata": {},
   "outputs": [
    {
     "data": {
      "image/png": "[encoded data removed]",
      "text/plain": [
       "<matplotlib.figure.Figure at 0x109798c50>"
      ]
     },
     "metadata": {},
     "output_type": "display_data"
    },
    {
     "name": "stdout",
     "output_type": "stream",
     "text": [
      "acc: 0.865942028986\n",
      "acc: 0.847826086957\n"
     ]
    }
   ],
   "source": [
    "from sklearn import datasets as ds\n",
    "from sklearn.model_selection import train_test_split\n",
    "import matplotlib.pyplot as plt\n",
    "from random import randrange\n",
    "import numpy as np\n",
    "\n",
    "# liner classification\n",
    "\n",
    "def get_data(path):\n",
    "    data = ds.load_svmlight_file(\"/Users/yj/文件/数据集/australian_scale\")\n",
    "    return data[0], data[1]\n",
    "\n",
    "# 损失函数\n",
    "def loss(W,b,X,Y,C=1):\n",
    "\n",
    "    N,dim = X.shape\n",
    "    hinge_loss = 0\n",
    "    for i in range(N):\n",
    "        t = 1 - Y[i]*( W.dot(X[i].T) + b  )\n",
    "        hinge_loss += max( 0 , t)\n",
    "    data_loss = 0.5*np.sum( W **2 ) + C * hinge_loss\n",
    "    data_loss /= N\n",
    "    return data_loss \n",
    "\n",
    "# 梯度函数\n",
    "def grad(W,b,X,Y,C=0.9):\n",
    "\n",
    "    N,dim = X.shape\n",
    "    dW = np.zeros(dim).T\n",
    "    db = 0\n",
    "    for i in range(N):\n",
    "        if (1 - Y[i]*( W.dot(X[i].T) + b  ) ) >=0:\n",
    "            dW += W.T - C * (Y[i] * X[i]).T\n",
    "            db += - C * Y[i]\n",
    "        else:\n",
    "            dW += W\n",
    "    return dW, db\n",
    "\n",
    "def predict(X,y,W,b):\n",
    "    X = np.matrix(X)\n",
    "    W = np.matrix(W)\n",
    "    b = np.matrix(b)\n",
    "    pred = X * (W.transpose() )\n",
    "    pred_y = list(map(lambda x: 1 if x>0 else -1,pred.A))\n",
    "    acc = (pred_y==y).sum() / X.shape[0]\n",
    "    print('acc:',acc)\n",
    "\n",
    "def train(X_train,y_train,X_test,y_test,step=0.01,iterNum=1000):\n",
    "\n",
    "    N,dim = X_train.shape\n",
    "    # 初始化参数\n",
    "    W = np.zeros(dim)\n",
    "    b = 1\n",
    "\n",
    "    loss_train_history = []\n",
    "    loss_test_history = []\n",
    "    for i in range(iterNum):\n",
    "        W += -step * ( grad(W,b,X_train,y_train)[0] ) / N\n",
    "        b += -step * ( grad(W,b,X_train,y_train)[1] ) / N\n",
    "        # 计算 记录误差\n",
    "        L_train = loss(W,b,X_train,y_train)\n",
    "        loss_train_history.append(L_train)\n",
    "\n",
    "        L_test = loss(W,b,X_test,y_test)\n",
    "        loss_test_history.append(L_test)\n",
    "\n",
    "    # 画图\n",
    "    plt.plot(np.arange(iterNum),loss_train_history, label='train_loss')\n",
    "    plt.plot(np.arange(iterNum),loss_test_history, label='test_loss')\n",
    "    plt.legend(loc=1)\n",
    "    plt.xlabel('number_of_rounds')\n",
    "    plt.ylabel('loss')\n",
    "    plt.show()\n",
    "    predict(X_train,y_train,W,b)\n",
    "    predict(X_test,y_test,W,b)\n",
    "\n",
    "\n",
    "X,y = get_data('australian_scale.txt')\n",
    "X = X.toarray()\n",
    "\n",
    "X_train, X_test, y_train, y_test = train_test_split(X,y,test_size=0.2,random_state=215)\n",
    "train(X_train,y_train,X_test,y_test)"
   ]
  },
  {
   "cell_type": "code",
   "execution_count": null,
   "metadata": {
    "collapsed": true
   },
   "outputs": [],
   "source": []
  }
 ],
 "metadata": {
  "kernelspec": {
   "display_name": "Python 3",
   "language": "python",
   "name": "python3"
  },
  "language_info": {
   "codemirror_mode": {
    "name": "ipython",
    "version": 3
   },
   "file_extension": ".py",
   "mimetype": "text/x-python",
   "name": "python",
   "nbconvert_exporter": "python",
   "pygments_lexer": "ipython3",
   "version": "3.6.3"
  }
 },
 "nbformat": 4,
 "nbformat_minor": 2
}
